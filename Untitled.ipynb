{
 "cells": [
  {
   "cell_type": "code",
   "execution_count": 1,
   "id": "7276dd86-0df8-4461-bcc8-56e951027ad5",
   "metadata": {},
   "outputs": [],
   "source": [
    "#AAA"
   ]
  },
  {
   "cell_type": "code",
   "execution_count": null,
   "id": "4d72889d-b3f6-47da-87a9-e68b2e4be5d3",
   "metadata": {},
   "outputs": [],
   "source": []
  }
 ],
 "metadata": {
  "environment": {
   "kernel": "python3",
   "name": "common-cpu.m109",
   "type": "gcloud",
   "uri": "gcr.io/deeplearning-platform-release/base-cpu:m109"
  },
  "kernelspec": {
   "display_name": "Python 3",
   "language": "python",
   "name": "python3"
  },
  "language_info": {
   "codemirror_mode": {
    "name": "ipython",
    "version": 3
   },
   "file_extension": ".py",
   "mimetype": "text/x-python",
   "name": "python",
   "nbconvert_exporter": "python",
   "pygments_lexer": "ipython3",
   "version": "3.10.11"
  }
 },
 "nbformat": 4,
 "nbformat_minor": 5
}
